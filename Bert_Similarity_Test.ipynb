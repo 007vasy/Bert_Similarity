{
 "cells": [
  {
   "cell_type": "code",
   "execution_count": 4,
   "metadata": {},
   "outputs": [
    {
     "data": {
      "text/html": [
       "<style>.container { width:100% !important; }</style>"
      ],
      "text/plain": [
       "<IPython.core.display.HTML object>"
      ]
     },
     "metadata": {},
     "output_type": "display_data"
    }
   ],
   "source": [
    "from IPython.core.display import display, HTML\n",
    "display(HTML(\"<style>.container { width:100% !important; }</style>\"))"
   ]
  },
  {
   "cell_type": "code",
   "execution_count": 96,
   "metadata": {},
   "outputs": [],
   "source": [
    "import torch\n",
    "from transformers import BertTokenizer, BertModel\n",
    "from functools import partial\n",
    "tokenizer = BertTokenizer.from_pretrained(\"deepset/bert-base-german-cased-hatespeech-GermEval18Coarse\")\n",
    "#model = BertModel.from_pretrained(\"deepset/bert-base-german-cased-hatespeech-GermEval18Coarse\")"
   ]
  },
  {
   "cell_type": "code",
   "execution_count": 38,
   "metadata": {},
   "outputs": [],
   "source": [
    "gt_text = \"\"\"Zweck der Gesellschaft ist der Betrieb einer Bank. Ihr Geschäftskreis umfasst alle Arten von Bank-, Finanz-, Beratungs-, Dienstleistungs- und Handelsgeschäften im In- und Ausland. Die Gesellschaft kann im In- und Ausland Zweigniederlassungen und Vertretungen errichten sowie Banken, Finanzgesellschaften und andere Unternehmen aller Art gründen, sich an solchen beteiligen und deren Geschäftsführung übernehmen. Die Gesellschaft ist berechtigt, Grundstücke und Baurechte im In- und Ausland zu erwerben, zu belasten und zu verkaufen. Die Gesellschaft kann Mittel am Kapitalmarkt aufnehmen und anlegen. Die Gesellschaft ist Teil des Konzerns, der von UBS Group AG als Muttergesellschaft kontrolliert wird. Sie kann die Interessen der Konzernmuttergesellschaft oder anderer Konzerngesellschaften fördern. Sie kann Darlehen, Garantien und andere Arten der Finanzierung und von Sicherheitsleistungen für Konzerngesellschaften gewähren\"\"\""
   ]
  },
  {
   "cell_type": "code",
   "execution_count": 235,
   "metadata": {},
   "outputs": [],
   "source": [
    "md_zweck_text_original = \"\"\"1 Zweck der Gesellschaft ist der Betrieb einer Bank. Ihr\n",
    "Geschäftskreis umfasst alle Arten von Bank, Finanz-, Bera-\n",
    "tungs-, Dienstleistungs- und Handelsgeschäften im In- und\n",
    "Ausland.\n",
    "2 Die Gesellschaft kann im In- und Ausland Zweigniederlas-\n",
    "sungen und Vertretungen errichten sowie Banken, Finanz-\n",
    "gesellschaften und andere Unternehmen aller Art gründen,\n",
    "sich an solchen beteiligen und deren Geschäftsführung\n",
    "übernehmen,\n",
    "3 Die Gesellschaft ist berechtigt, Grundstücke und Baurechte\n",
    "im In- und Ausland zu erwerben, zu belasten und zu ver-\n",
    "kaufen.\n",
    "4 Die Gesellschaft kann Mittel am Kapitalmarkt aufnehmen\n",
    "und anlegen.\n",
    "5 Die Gesellschaft ist Teil des Konzerns, der von UBS Group\n",
    "AG als Muttergesellschaft kontrolliert wird. Sie kann die\n",
    "Interessen der Konzernmuttergesellschaft oder anderer\n",
    "Konzerngesellschaften fördern. Sie kann Darlehen, Garan-\n",
    "tien und andere Arten der Finanzierung und von Sicher-\n",
    "heitsleistungen für Konzerngesellschaften gewähren.\n",
    "\"\"\""
   ]
  },
  {
   "cell_type": "code",
   "execution_count": null,
   "metadata": {},
   "outputs": [],
   "source": []
  },
  {
   "cell_type": "code",
   "execution_count": 40,
   "metadata": {},
   "outputs": [],
   "source": [
    "md_NO_zweck_text = \"\"\"Die Gesellschaft anerkennt nur einen Vertreter pro Aktie.\n",
    "\n",
    "2 Das Stimmrecht und die damit zusammenhängenden\n",
    "\n",
    "Rechte können der Gesellschaft gegenüber nur von einer\n",
    "\n",
    "Person ausgeübt werden, die mit Stimmrecht im Aktien-\n",
    "\n",
    "register eingetragen ist.\n",
    "\n",
    "Abschnitt 3\n",
    "\n",
    "Gesellschaftsorgane\n",
    "\n",
    "A. Generalversammlung\n",
    "## Zuständigkeit\n",
    "\"\"\""
   ]
  },
  {
   "cell_type": "code",
   "execution_count": 210,
   "metadata": {},
   "outputs": [],
   "source": [
    "md_NO_zweck_text_2 = \"\"\"Verwaltungsräte Artikel 18\n",
    "Der Verwaltungsrat besteht aus mindestens fünf und\n",
    "maximal zwölf Mitgliedern.\n",
    "\n",
    "\n",
    "Amtsdauer\"\"\""
   ]
  },
  {
   "cell_type": "code",
   "execution_count": 241,
   "metadata": {},
   "outputs": [],
   "source": [
    "partial_encoder = partial(tokenizer.encode,return_tensors=\"pt\",max_length=200, pad_to_max_length=True)\n"
   ]
  },
  {
   "cell_type": "code",
   "execution_count": 310,
   "metadata": {},
   "outputs": [],
   "source": [
    "def textCleaner(text):\n",
    "    text = text.replace(\"-\\n\",\"\").replace(\"\\n\",\" \")\n",
    "    return ''.join([i for i in text if i.isalpha() or i == \" \"]).replace(\"  \",\" \").strip()"
   ]
  },
  {
   "cell_type": "code",
   "execution_count": 311,
   "metadata": {},
   "outputs": [
    {
     "name": "stdout",
     "output_type": "stream",
     "text": [
      "Zweck der Gesellschaft ist der Betrieb einer Bank Ihr Geschäftskreis umfasst alle Arten von Bank Finanz Beratungs Dienstleistungs und Handelsgeschäften im In und Ausland Die Gesellschaft kann im In und Ausland Zweigniederlassungen und Vertretungen errichten sowie Banken Finanzgesellschaften und andere Unternehmen aller Art gründen sich an solchen beteiligen und deren Geschäftsführung übernehmen Die Gesellschaft ist berechtigt Grundstücke und Baurechte im In und Ausland zu erwerben zu belasten und zu verkaufen Die Gesellschaft kann Mittel am Kapitalmarkt aufnehmen und anlegen Die Gesellschaft ist Teil des Konzerns der von UBS Group AG als Muttergesellschaft kontrolliert wird Sie kann die Interessen der Konzernmuttergesellschaft oder anderer Konzerngesellschaften fördern Sie kann Darlehen Garantien und andere Arten der Finanzierung und von Sicherheitsleistungen für Konzerngesellschaften gewähren\n",
      "Zweck der Gesellschaft ist der Betrieb einer Bank Ihr Geschäftskreis umfasst alle Arten von Bank Finanz Beratungs Dienstleistungs und Handelsgeschäften im In und Ausland Die Gesellschaft kann im In und Ausland Zweigniederlassungen und Vertretungen errichten sowie Banken Finanzgesellschaften und andere Unternehmen aller Art gründen sich an solchen beteiligen und deren Geschäftsführung übernehmen Die Gesellschaft ist berechtigt Grundstücke und Baurechte im In und Ausland zu erwerben zu belasten und zu verkaufen Die Gesellschaft kann Mittel am Kapitalmarkt aufnehmen und anlegen Die Gesellschaft ist Teil des Konzerns der von UBS Group AG als Muttergesellschaft kontrolliert wird Sie kann die Interessen der Konzernmuttergesellschaft oder anderer Konzerngesellschaften fördern Sie kann Darlehen Garantien und andere Arten der Finanzierung und von Sicherheitsleistungen für Konzerngesellschaften gewähren\n"
     ]
    }
   ],
   "source": [
    "md_zweck_text_cleaned =  textCleaner(md_zweck_text)\n",
    "print(md_zweck_text_cleaned)\n",
    "print(textCleaner(gt_text))"
   ]
  },
  {
   "cell_type": "code",
   "execution_count": 312,
   "metadata": {},
   "outputs": [],
   "source": [
    "gt_token_encoded = partial_encoder(textCleaner(gt_text))\n",
    "md_zweck_token_encoded = partial_encoder(textCleaner(md_zweck_text))\n",
    "md_NO_zweck_token_encoded = partial_encoder(textCleaner(md_NO_zweck_text))\n",
    "md_NO_zweck_2_encoded = partial_encoder(md_NO_zweck_text_2)"
   ]
  },
  {
   "cell_type": "code",
   "execution_count": 313,
   "metadata": {},
   "outputs": [],
   "source": [
    "def calcCosSimBetweenTokens(token1, token2):\n",
    "    return torch.nn.CosineSimilarity(dim=1, eps=1e-6)(token1,token2)"
   ]
  },
  {
   "cell_type": "code",
   "execution_count": 314,
   "metadata": {},
   "outputs": [],
   "source": [
    "#print(calcCosSimBetweenTokens(gt_token_encoded,md_zweck_token_encoded))\n",
    "#print(calcCosSimBetweenTokens(gt_token_encoded,md_NO_zweck_token_encoded))"
   ]
  },
  {
   "cell_type": "code",
   "execution_count": 315,
   "metadata": {},
   "outputs": [],
   "source": [
    "from sklearn.metrics.pairwise import cosine_similarity"
   ]
  },
  {
   "cell_type": "code",
   "execution_count": 316,
   "metadata": {},
   "outputs": [
    {
     "data": {
      "text/plain": [
       "1.0"
      ]
     },
     "execution_count": 316,
     "metadata": {},
     "output_type": "execute_result"
    }
   ],
   "source": [
    "cosine_similarity(gt_token_encoded,md_zweck_token_encoded)[0][0]"
   ]
  },
  {
   "cell_type": "code",
   "execution_count": 317,
   "metadata": {},
   "outputs": [
    {
     "data": {
      "text/plain": [
       "0.14189327697392828"
      ]
     },
     "execution_count": 317,
     "metadata": {},
     "output_type": "execute_result"
    }
   ],
   "source": [
    "cosine_similarity(gt_token_encoded,md_NO_zweck_token_encoded)[0][0]"
   ]
  },
  {
   "cell_type": "code",
   "execution_count": 318,
   "metadata": {},
   "outputs": [
    {
     "data": {
      "text/plain": [
       "0.06043280376039879"
      ]
     },
     "execution_count": 318,
     "metadata": {},
     "output_type": "execute_result"
    }
   ],
   "source": [
    "cosine_similarity(gt_token_encoded,md_NO_zweck_2_encoded)[0][0]"
   ]
  },
  {
   "cell_type": "code",
   "execution_count": 319,
   "metadata": {},
   "outputs": [
    {
     "data": {
      "text/plain": [
       "1.0"
      ]
     },
     "execution_count": 319,
     "metadata": {},
     "output_type": "execute_result"
    }
   ],
   "source": [
    "cosine_similarity(gt_token_encoded,gt_token_encoded)[0][0]"
   ]
  },
  {
   "cell_type": "code",
   "execution_count": 296,
   "metadata": {},
   "outputs": [],
   "source": [
    "t=\"ä\""
   ]
  },
  {
   "cell_type": "code",
   "execution_count": 297,
   "metadata": {},
   "outputs": [
    {
     "data": {
      "text/plain": [
       "True"
      ]
     },
     "execution_count": 297,
     "metadata": {},
     "output_type": "execute_result"
    }
   ],
   "source": [
    "t.isalpha()"
   ]
  },
  {
   "cell_type": "code",
   "execution_count": null,
   "metadata": {},
   "outputs": [],
   "source": []
  }
 ],
 "metadata": {
  "kernelspec": {
   "display_name": "Python 3",
   "language": "python",
   "name": "python3"
  },
  "language_info": {
   "codemirror_mode": {
    "name": "ipython",
    "version": 3
   },
   "file_extension": ".py",
   "mimetype": "text/x-python",
   "name": "python",
   "nbconvert_exporter": "python",
   "pygments_lexer": "ipython3",
   "version": "3.6.10"
  }
 },
 "nbformat": 4,
 "nbformat_minor": 4
}
